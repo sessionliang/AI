{
 "metadata": {
  "language_info": {
   "codemirror_mode": {
    "name": "ipython",
    "version": 3
   },
   "file_extension": ".py",
   "mimetype": "text/x-python",
   "name": "python",
   "nbconvert_exporter": "python",
   "pygments_lexer": "ipython3",
   "version": "3.7.3-final"
  },
  "orig_nbformat": 2,
  "kernelspec": {
   "name": "python3",
   "display_name": "Python 3"
  }
 },
 "nbformat": 4,
 "nbformat_minor": 2,
 "cells": [
  {
   "cell_type": "markdown",
   "metadata": {},
   "source": [
    "# 五、预测结果"
   ]
  },
  {
   "cell_type": "code",
   "execution_count": 16,
   "metadata": {},
   "outputs": [],
   "source": [
    "# 导入模型\n",
    "import pickle\n",
    "\n",
    "with open('./data/model_lgb_best.pkl', 'rb+') as fr:\n",
    "    model = pickle.load(fr)"
   ]
  },
  {
   "cell_type": "code",
   "execution_count": 8,
   "metadata": {
    "tags": []
   },
   "outputs": [
    {
     "output_type": "stream",
     "name": "stdout",
     "text": "(200000, 149)\n"
    }
   ],
   "source": [
    "# 导入数据\n",
    "import pandas as pd\n",
    "\n",
    "x_test = pd.read_csv('./data/processed_test.csv')\n",
    "print(x_test.shape)"
   ]
  },
  {
   "cell_type": "code",
   "execution_count": 17,
   "metadata": {
    "tags": []
   },
   "outputs": [
    {
     "output_type": "stream",
     "name": "stdout",
     "text": "[0.07467225 0.34350563 0.59579138 0.26997562 0.37818276 0.02317582\n 0.32673861 0.04396341 0.61566356 0.04109493]\n"
    }
   ],
   "source": [
    "# 预测结果\n",
    "y_test = model.predict(x_test)\n",
    "\n",
    "print(y_test[:10])"
   ]
  },
  {
   "cell_type": "code",
   "execution_count": 18,
   "metadata": {},
   "outputs": [],
   "source": [
    "# 保存提交结果\n",
    "result = pd.read_csv('./data/sample_submit.csv')\n",
    "result['isDefault'] = y_test\n",
    "result.to_csv('./data/test_result.csv', columns=['id', 'isDefault'], index=False, header=True)"
   ]
  },
  {
   "cell_type": "code",
   "execution_count": null,
   "metadata": {},
   "outputs": [],
   "source": []
  }
 ]
}