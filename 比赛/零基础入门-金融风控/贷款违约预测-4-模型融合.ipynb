{
 "metadata": {
  "language_info": {
   "codemirror_mode": {
    "name": "ipython",
    "version": 3
   },
   "file_extension": ".py",
   "mimetype": "text/x-python",
   "name": "python",
   "nbconvert_exporter": "python",
   "pygments_lexer": "ipython3",
   "version": 3
  },
  "orig_nbformat": 2
 },
 "nbformat": 4,
 "nbformat_minor": 2,
 "cells": [
  {
   "cell_type": "markdown",
   "metadata": {},
   "source": [
    "# 四、模型融合"
   ]
  },
  {
   "cell_type": "markdown",
   "metadata": {},
   "source": [
    "模型融合的方式有平均，投票，stacking，blending等多种方式，也可以交叉多种方式使用。\n",
    "\n",
    "简单说一下，关于stacking，blending的理解。"
   ]
  },
  {
   "cell_type": "markdown",
   "metadata": {},
   "source": [
    "## 对课题的思考\n",
    "\n",
    "1. 对匿名特征值n0-n14进行模型预测，结果作为新特征值。匿名特征值给出一个综合分数。\n",
    "\n",
    "2. 对loanAmnt, term, interestRate, installment, grade, subGrade, issueDate, purpose, postCode, regionCode进行预测，结果作为新特征值。贷款基本信息给出一个综合分数。\n",
    "\n",
    "3. 对employmentTitle, employmentLength, homeOwnership, annualIncome, dti进行预测，作为新特征值。个人基本信息给出一个综合分数。\n",
    "\n",
    "4. delinquency_2years, ficoRangeLow, ficoRangeHigh, openAcc, pubRec, pubRecBankruptcies, totalAcc, earliesCreditLine进行预测，作为新特征值。个人信用值给出一个综合分数。"
   ]
  },
  {
   "cell_type": "markdown",
   "metadata": {},
   "source": [
    "## 模型的设计\n",
    "\n",
    "模型设计采用blending的方式。\n",
    "\n",
    "1. 针对上述的四个方向用n种简单模型做预测，然后求平均，作为新的特征值。可以添加四个新的综合分数。\n",
    "\n",
    "2. 四个新的特征值，合并到原来数据，然后做预测。"
   ]
  },
  {
   "cell_type": "code",
   "execution_count": null,
   "metadata": {},
   "outputs": [],
   "source": [
    "# 读取数据\n",
    "import numpy as np\n",
    "import pandas as pd\n",
    "import warnings\n",
    "\n",
    "x_train = pd.read_csv('./data/processed_train.csv')\n",
    "y_train = pd.read_csv('./data/label.csv', squeeze=True)\n",
    "x_test = pd.read_csv('./data/processed_test.csv')\n",
    "\n",
    "print(x_train.shape)\n",
    "print(y_train.shape)\n",
    "print(x_test.shape)"
   ]
  },
  {
   "cell_type": "code",
   "execution_count": null,
   "metadata": {},
   "outputs": [],
   "source": [
    "# 分割测试集合训练集\n",
    "from sklearn.model_selection import train_test_split\n",
    "\n",
    "x, x_predict, y, y_predict = train_test_split(x_train[:100000, :], y_train[:100000], test_size=0.3, random_state=2020)\n",
    "\n",
    "# 训练数据切割d1, d2\n",
    "x_d1, x_d2, y_d1, y_d2 = train_test_split(x, y, test_size=0.5, random_state=2020)"
   ]
  },
  {
   "cell_type": "code",
   "execution_count": null,
   "metadata": {},
   "outputs": [],
   "source": [
    "# 代码部分，由于时间关系先暂停了，后面在提升比赛成绩的时候，在逐步试验，然后完善记录。"
   ]
  }
 ]
}